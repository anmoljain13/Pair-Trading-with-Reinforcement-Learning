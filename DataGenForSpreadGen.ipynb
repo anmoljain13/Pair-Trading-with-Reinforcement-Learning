{
 "cells": [
  {
   "cell_type": "code",
   "execution_count": 3,
   "metadata": {},
   "outputs": [],
   "source": [
    "import pickle\n",
    "\n",
    "with open(\"./data/pairs.txt\", \"rb\") as f:\n",
    "    pairs = pickle.load(f)"
   ]
  },
  {
   "cell_type": "code",
   "execution_count": 4,
   "metadata": {},
   "outputs": [],
   "source": [
    "ticker_universe = set()\n",
    "for pair in pairs:\n",
    "    ticker_universe.add(pair[0])\n",
    "    ticker_universe.add(pair[1])"
   ]
  },
  {
   "cell_type": "code",
   "execution_count": 5,
   "metadata": {},
   "outputs": [
    {
     "data": {
      "text/plain": [
       "94"
      ]
     },
     "execution_count": 5,
     "metadata": {},
     "output_type": "execute_result"
    }
   ],
   "source": [
    "from tiingo import TiingoClient\n",
    "\n",
    "config = {}\n",
    "config['session'] = True\n",
    "config['api_key'] = \"TOKEN\"\n",
    "\n",
    "client = TiingoClient(config)\n",
    "ticker_data = client.get_dataframe(list(ticker_universe), frequency= \"1min\", metric_name= 'close', startDate= \"2021-01-01\", endDate= \"2021-12-31\")\n"
   ]
  },
  {
   "cell_type": "code",
   "execution_count": null,
   "metadata": {},
   "outputs": [],
   "source": []
  }
 ],
 "metadata": {
  "kernelspec": {
   "display_name": "Python 3.9.12 ('base')",
   "language": "python",
   "name": "python3"
  },
  "language_info": {
   "codemirror_mode": {
    "name": "ipython",
    "version": 3
   },
   "file_extension": ".py",
   "mimetype": "text/x-python",
   "name": "python",
   "nbconvert_exporter": "python",
   "pygments_lexer": "ipython3",
   "version": "3.9.12"
  },
  "orig_nbformat": 4,
  "vscode": {
   "interpreter": {
    "hash": "d51b182706100805530df1a01fdeb216ab4c7a1245b9ed04adca2cec7bf8c238"
   }
  }
 },
 "nbformat": 4,
 "nbformat_minor": 2
}
