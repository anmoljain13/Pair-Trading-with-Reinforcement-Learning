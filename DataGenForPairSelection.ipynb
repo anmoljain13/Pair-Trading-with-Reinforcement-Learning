{
 "cells": [
  {
   "cell_type": "markdown",
   "metadata": {},
   "source": [
    "### Importing data Using tiingo"
   ]
  },
  {
   "cell_type": "code",
   "execution_count": 2,
   "metadata": {},
   "outputs": [],
   "source": [
    "# from tiingo import TiingoClient\n",
    "\n",
    "# config = {}\n",
    "# config['session'] = True\n",
    "# config['api_key'] = \"TOKEN\"\n",
    "\n",
    "# client = TiingoClient(config)\n",
    "# ticker_data = client.get_dataframe(nasdaq100_list, frequency= \"daily\", metric_name= 'close', startDate= \"2021-01-01\", endDate= \"2021-12-31\")\n"
   ]
  },
  {
   "cell_type": "markdown",
   "metadata": {},
   "source": [
    "### Importing daily closing data using YF"
   ]
  },
  {
   "cell_type": "code",
   "execution_count": 3,
   "metadata": {},
   "outputs": [],
   "source": [
    "import pandas as pd"
   ]
  },
  {
   "cell_type": "code",
   "execution_count": 4,
   "metadata": {},
   "outputs": [],
   "source": [
    "# tech_list = [\"GOOGL\", \"AAPL\", \"MSFT\", \"TSM\", \"NVDA\", \"ASML\", \"ORCL\", \"CSCO\", \"TXN\", \"CRM\", \"INTC\", \"AMD\", \"ADBE\"]\n",
    "nasdaq100_list = [\n",
    "\"CPRT\",\n",
    "\"TMUS\",\n",
    "\"TSLA\",\n",
    "\"ATVI\",\n",
    "\"EA\",\n",
    "\"PEP\",\n",
    "\"MDLZ\",\n",
    "\"KDP\",\n",
    "\"MNST\",\n",
    "\"KHC\",\n",
    "\"CMCSA\",\n",
    "\"SBUX\",\n",
    "\"CHTR\",\n",
    "\"ABNB\",\n",
    "\"BKNG\",\n",
    "\"MAR\",\n",
    "\"CTAS\",\n",
    "\"SIRI\",\n",
    "\"PTON\",\n",
    "\"FAST\",\n",
    "\"AAPL\",\n",
    "\"NVDA\",\n",
    "\"ASML\",\n",
    "\"AVGO\",\n",
    "\"INTC\",\n",
    "\"QCOM\",\n",
    "\"AMD\",\n",
    "\"TXN\",\n",
    "\"MU\",\n",
    "\"LRCX\",\n",
    "\"ADI\",\n",
    "\"MRVL\",\n",
    "\"KLAC\",\n",
    "\"NXPI\",\n",
    "\"FTNT\",\n",
    "\"PANW\",\n",
    "\"MCHP\",\n",
    "\"SWKS\",\n",
    "\"ISRG\",\n",
    "\"AMGN\",\n",
    "\"MRNA\",\n",
    "\"GILD\",\n",
    "\"REGN\",\n",
    "\"ILMN\",\n",
    "\"VRTX\",\n",
    "\"IDXX\",\n",
    "\"ALGN\",\n",
    "\"DXCM\",\n",
    "\"BIIB\",\n",
    "\"SGEN\",\n",
    "\"HON\",\n",
    "\"AMAT\",\n",
    "\"PCAR\",\n",
    "\"AMZN\",\n",
    "\"COST\",\n",
    "\"JD\",\n",
    "\"PDD\",\n",
    "\"MELI\",\n",
    "\"LULU\",\n",
    "\"ORLY\",\n",
    "\"WBA\",\n",
    "\"EBAY\",\n",
    "\"ROST\",\n",
    "\"DLTR\",\n",
    "\"MSFT\",\n",
    "\"GOOG\",\n",
    "\"GOOGL\",\n",
    "\"CSCO\",\n",
    "\"NFLX\",\n",
    "\"PYPL\",\n",
    "\"INTU\",\n",
    "\"ADP\",\n",
    "\"TEAM\",\n",
    "\"FISV\",\n",
    "\"WDAY\",\n",
    "\"ADSK\",\n",
    "\"NTES\",\n",
    "\"SNPS\",\n",
    "\"ZM\",\n",
    "\"BIDU\",\n",
    "\"DDOG\",\n",
    "\"CDNS\",\n",
    "\"PAYX\",\n",
    "\"CTSH\",\n",
    "\"CRWD\",\n",
    "\"ZS\",\n",
    "\"MTCH\",\n",
    "\"VRSK\",\n",
    "\"OKTA\",\n",
    "\"ANSS\",\n",
    "\"DOCU\",\n",
    "\"VRSN\",\n",
    "\"SPLK\",\n",
    "\"CSX\",\n",
    "\"EXC\",\n",
    "\"AEP\",\n",
    "\"XEL\"\n",
    "]"
   ]
  },
  {
   "cell_type": "code",
   "execution_count": 5,
   "metadata": {},
   "outputs": [],
   "source": [
    "pd.core.common.is_list_like = pd.api.types.is_list_like\n",
    "from pandas_datareader import data as pdr\n",
    "import datetime\n",
    "import yfinance as yf\n",
    "yf.pdr_override()"
   ]
  },
  {
   "cell_type": "code",
   "execution_count": 6,
   "metadata": {},
   "outputs": [
    {
     "name": "stdout",
     "output_type": "stream",
     "text": [
      "[*********************100%***********************]  97 of 97 completed\n"
     ]
    }
   ],
   "source": [
    "start = datetime.datetime(2018, 1, 1)\n",
    "end = datetime.datetime(2022, 1, 1)\n",
    "df = pdr.get_data_yahoo(nasdaq100_list, start, end)['Close']"
   ]
  },
  {
   "cell_type": "code",
   "execution_count": 7,
   "metadata": {},
   "outputs": [],
   "source": [
    "df.to_csv(\"./data/nasdaq100_4year_closingData.csv\")"
   ]
  }
 ],
 "metadata": {
  "kernelspec": {
   "display_name": "Python 3.9.12 ('base')",
   "language": "python",
   "name": "python3"
  },
  "language_info": {
   "codemirror_mode": {
    "name": "ipython",
    "version": 3
   },
   "file_extension": ".py",
   "mimetype": "text/x-python",
   "name": "python",
   "nbconvert_exporter": "python",
   "pygments_lexer": "ipython3",
   "version": "3.9.12"
  },
  "orig_nbformat": 4,
  "vscode": {
   "interpreter": {
    "hash": "d51b182706100805530df1a01fdeb216ab4c7a1245b9ed04adca2cec7bf8c238"
   }
  }
 },
 "nbformat": 4,
 "nbformat_minor": 2
}
